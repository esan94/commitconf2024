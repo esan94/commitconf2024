{
 "cells": [
  {
   "cell_type": "code",
   "execution_count": 83,
   "metadata": {},
   "outputs": [],
   "source": [
    "import pandas as pd\n",
    "import json\n",
    "from tqdm import tqdm"
   ]
  },
  {
   "cell_type": "code",
   "execution_count": 10,
   "metadata": {},
   "outputs": [],
   "source": [
    "import requests\n",
    "\n",
    "# URL de la API\n",
    "url_api = 'https://openapi.emtmadrid.es/v1/mobilitylabs/user/login/'\n",
    "\n",
    "# Datos de autenticación\n",
    "clientID = \"3035de74-9dd5-4223-93fb-2ba65bddc22f\"\n",
    "passkey = '57E940AAE9FDD0E192487B24CD0CE5C47B506F8DF8BFD8F1F71137F1DE9191F932D8974AE15530EA59AC853B6637695EC8FCA0B45CC99D7B123EBF957E62FD30'\n",
    "\n",
    "headers = {\n",
    "    'X-ClientId': clientID,\n",
    "    'passKey': passkey\n",
    "}\n",
    "\n",
    "try:\n",
    "    # Realizar la solicitud GET\n",
    "    response = requests.get(url_api, headers=headers)\n",
    "\n",
    "    # Verificar si la solicitud fue exitosa\n",
    "    if response.status_code == 200:\n",
    "        # Procesar la respuesta JSON\n",
    "        data = response.json()\n",
    "        # Aquí puedes trabajar con los datos recibidos\n",
    "    else:\n",
    "        print(\"Error en la solicitud:\", response.status_code)\n",
    "\n",
    "except requests.exceptions.RequestException as e:\n",
    "    # Capturar excepciones de solicitud\n",
    "    print(\"Error en la solicitud:\", e)"
   ]
  },
  {
   "cell_type": "code",
   "execution_count": 11,
   "metadata": {},
   "outputs": [
    {
     "data": {
      "text/plain": [
       "{'code': '01',\n",
       " 'description': 'Token extend  into control-cache Data recovered  OK, (lapsed: 87 millsecs)',\n",
       " 'datetime': '2024-03-02T19:23:49.849285',\n",
       " 'data': [{'nameApp': 'Retrieve Stop info',\n",
       "   'levelApp': 0,\n",
       "   'updatedAt': '2024-02-13T14:15:12.150000',\n",
       "   'userName': 'davicichu',\n",
       "   'lastUpdate': {'$date': 1709403590401},\n",
       "   'idUser': 'BF18F925-A1D6-4A46-9C43-696A4D87A8D8',\n",
       "   'priv': 'U',\n",
       "   'tokenSecExpiration': 86400,\n",
       "   'email': 'david.lpmartin@gmail.com',\n",
       "   'tokenDteExpiration': {'$date': 1709493590401},\n",
       "   'flagAdvise': False,\n",
       "   'accessToken': '754dac88-d8c1-11ee-82f2-26e8a1204cbd',\n",
       "   'apiCounter': {'current': 1,\n",
       "    'dailyUse': 250000,\n",
       "    'owner': 0,\n",
       "    'licenceUse': 'Please mention EMT Madrid MobilityLabs as data source. Thank you and enjoy!'},\n",
       "   'username': 'davicichu'}]}"
      ]
     },
     "execution_count": 11,
     "metadata": {},
     "output_type": "execute_result"
    }
   ],
   "source": [
    "data"
   ]
  },
  {
   "cell_type": "markdown",
   "metadata": {},
   "source": [
    "### Obtener información a partir del código de parada"
   ]
  },
  {
   "cell_type": "code",
   "execution_count": 14,
   "metadata": {},
   "outputs": [],
   "source": [
    "import requests\n",
    "\n",
    "# URL de la API\n",
    "url_api = 'https://openapi.emtmadrid.es/v1/transport/busemtmad/stops/88/detail/'\n",
    "\n",
    "# Datos de autenticación\n",
    "accessToken = '754dac88-d8c1-11ee-82f2-26e8a1204cbd'\n",
    "\n",
    "headers = {\n",
    "    'accessToken': accessToken\n",
    "}\n",
    "\n",
    "try:\n",
    "    # Realizar la solicitud GET\n",
    "    response = requests.get(url_api, headers=headers)\n",
    "\n",
    "    # Verificar si la solicitud fue exitosa\n",
    "    if response.status_code == 200:\n",
    "        # Procesar la respuesta JSON\n",
    "        data = response.json()\n",
    "        # Aquí puedes trabajar con los datos recibidos\n",
    "    else:\n",
    "        print(\"Error en la solicitud:\", response.status_code)\n",
    "\n",
    "except requests.exceptions.RequestException as e:\n",
    "    # Capturar excepciones de solicitud\n",
    "    print(\"Error en la solicitud:\", e)"
   ]
  },
  {
   "cell_type": "code",
   "execution_count": 15,
   "metadata": {},
   "outputs": [
    {
     "data": {
      "text/plain": [
       "{'code': '90',\n",
       " 'description': 'Error managing internal services',\n",
       " 'datetime': '2024-03-02T19:23:58.055452',\n",
       " 'data': []}"
      ]
     },
     "execution_count": 15,
     "metadata": {},
     "output_type": "execute_result"
    }
   ],
   "source": [
    "data"
   ]
  },
  {
   "cell_type": "markdown",
   "metadata": {},
   "source": [
    "### Otro metodo para obtener la lat y lon"
   ]
  },
  {
   "cell_type": "markdown",
   "metadata": {},
   "source": [
    "Realizar la peticion directamente a traves de la pagina si no da error, a esta url https://openapi.emtmadrid.es/v1/transport/busemtmad/stops/list/. Se obtiene un json de todas las paradas y su localización "
   ]
  },
  {
   "cell_type": "code",
   "execution_count": 102,
   "metadata": {},
   "outputs": [],
   "source": [
    "import json\n",
    "import pandas as pd\n",
    "with open('../data/emt_info.json', 'r', encoding='utf-8') as archivo:\n",
    "    json_emt = json.load(archivo)"
   ]
  },
  {
   "cell_type": "code",
   "execution_count": 106,
   "metadata": {},
   "outputs": [],
   "source": [
    "lista_paradas = json_emt.get('data')\n",
    "latitud_list = []\n",
    "longitud_list = []\n",
    "codparada_list = []\n",
    "\n",
    "for parada in lista_paradas:\n",
    "    longitud_list.append(parada.get('geometry').get('coordinates')[0])\n",
    "    latitud_list.append(parada.get('geometry').get('coordinates')[1])\n",
    "    codparada_list.append(parada.get('node'))\n"
   ]
  },
  {
   "cell_type": "code",
   "execution_count": 170,
   "metadata": {},
   "outputs": [
    {
     "data": {
      "text/html": [
       "<div>\n",
       "<style scoped>\n",
       "    .dataframe tbody tr th:only-of-type {\n",
       "        vertical-align: middle;\n",
       "    }\n",
       "\n",
       "    .dataframe tbody tr th {\n",
       "        vertical-align: top;\n",
       "    }\n",
       "\n",
       "    .dataframe thead th {\n",
       "        text-align: right;\n",
       "    }\n",
       "</style>\n",
       "<table border=\"1\" class=\"dataframe\">\n",
       "  <thead>\n",
       "    <tr style=\"text-align: right;\">\n",
       "      <th></th>\n",
       "      <th>codigo_parada</th>\n",
       "      <th>longitud</th>\n",
       "      <th>latitud</th>\n",
       "    </tr>\n",
       "  </thead>\n",
       "  <tbody>\n",
       "    <tr>\n",
       "      <th>0</th>\n",
       "      <td>1</td>\n",
       "      <td>-3.782883</td>\n",
       "      <td>40.470144</td>\n",
       "    </tr>\n",
       "    <tr>\n",
       "      <th>1</th>\n",
       "      <td>2</td>\n",
       "      <td>-3.785959</td>\n",
       "      <td>40.468672</td>\n",
       "    </tr>\n",
       "    <tr>\n",
       "      <th>2</th>\n",
       "      <td>3</td>\n",
       "      <td>-3.783855</td>\n",
       "      <td>40.464957</td>\n",
       "    </tr>\n",
       "    <tr>\n",
       "      <th>3</th>\n",
       "      <td>4</td>\n",
       "      <td>-3.784097</td>\n",
       "      <td>40.461442</td>\n",
       "    </tr>\n",
       "    <tr>\n",
       "      <th>4</th>\n",
       "      <td>5</td>\n",
       "      <td>-3.784291</td>\n",
       "      <td>40.459436</td>\n",
       "    </tr>\n",
       "    <tr>\n",
       "      <th>...</th>\n",
       "      <td>...</td>\n",
       "      <td>...</td>\n",
       "      <td>...</td>\n",
       "    </tr>\n",
       "    <tr>\n",
       "      <th>4838</th>\n",
       "      <td>51030</td>\n",
       "      <td>-3.753276</td>\n",
       "      <td>40.411219</td>\n",
       "    </tr>\n",
       "    <tr>\n",
       "      <th>4839</th>\n",
       "      <td>51031</td>\n",
       "      <td>-3.674577</td>\n",
       "      <td>40.500636</td>\n",
       "    </tr>\n",
       "    <tr>\n",
       "      <th>4840</th>\n",
       "      <td>51032</td>\n",
       "      <td>-3.674161</td>\n",
       "      <td>40.500575</td>\n",
       "    </tr>\n",
       "    <tr>\n",
       "      <th>4841</th>\n",
       "      <td>51033</td>\n",
       "      <td>-3.717790</td>\n",
       "      <td>40.433854</td>\n",
       "    </tr>\n",
       "    <tr>\n",
       "      <th>4842</th>\n",
       "      <td>51034</td>\n",
       "      <td>-3.669329</td>\n",
       "      <td>40.447365</td>\n",
       "    </tr>\n",
       "  </tbody>\n",
       "</table>\n",
       "<p>4843 rows × 3 columns</p>\n",
       "</div>"
      ],
      "text/plain": [
       "     codigo_parada  longitud    latitud\n",
       "0                1 -3.782883  40.470144\n",
       "1                2 -3.785959  40.468672\n",
       "2                3 -3.783855  40.464957\n",
       "3                4 -3.784097  40.461442\n",
       "4                5 -3.784291  40.459436\n",
       "...            ...       ...        ...\n",
       "4838         51030 -3.753276  40.411219\n",
       "4839         51031 -3.674577  40.500636\n",
       "4840         51032 -3.674161  40.500575\n",
       "4841         51033 -3.717790  40.433854\n",
       "4842         51034 -3.669329  40.447365\n",
       "\n",
       "[4843 rows x 3 columns]"
      ]
     },
     "execution_count": 170,
     "metadata": {},
     "output_type": "execute_result"
    }
   ],
   "source": [
    "coord_df = pd.DataFrame(\n",
    "    {'codigo_parada':codparada_list, 'longitud':longitud_list, 'latitud':latitud_list}\n",
    ")\n",
    "coord_df"
   ]
  },
  {
   "cell_type": "code",
   "execution_count": 172,
   "metadata": {},
   "outputs": [],
   "source": [
    "coord_df.to_csv('../data/longitude_latitude.csv', index=False)"
   ]
  },
  {
   "cell_type": "markdown",
   "metadata": {},
   "source": [
    "##### Comprobar cuantas coinciden y faltan del csv-clean"
   ]
  },
  {
   "cell_type": "code",
   "execution_count": 3,
   "metadata": {},
   "outputs": [],
   "source": [
    "import pandas as pd\n",
    "\n",
    "emt_csv = pd.read_csv('../data/emt-data-clean.csv')\n",
    "coord_df = pd.read_csv('../data/longitude_latitude.csv')\n",
    "paradas = list(emt_csv['codigo_parada'].unique())\n",
    "coor_paradas =list(coord_df['codigo_parada'].astype(int))\n",
    "paradas_faltan = []"
   ]
  },
  {
   "cell_type": "code",
   "execution_count": 4,
   "metadata": {},
   "outputs": [],
   "source": [
    "for parada in paradas:\n",
    "    if parada not in coor_paradas:\n",
    "        paradas_faltan.append(parada)"
   ]
  },
  {
   "cell_type": "markdown",
   "metadata": {},
   "source": [
    "#### Obtener intenerario de cada linea con distancias"
   ]
  },
  {
   "cell_type": "code",
   "execution_count": 21,
   "metadata": {},
   "outputs": [
    {
     "data": {
      "text/html": [
       "<div>\n",
       "<style scoped>\n",
       "    .dataframe tbody tr th:only-of-type {\n",
       "        vertical-align: middle;\n",
       "    }\n",
       "\n",
       "    .dataframe tbody tr th {\n",
       "        vertical-align: top;\n",
       "    }\n",
       "\n",
       "    .dataframe thead th {\n",
       "        text-align: right;\n",
       "    }\n",
       "</style>\n",
       "<table border=\"1\" class=\"dataframe\">\n",
       "  <thead>\n",
       "    <tr style=\"text-align: right;\">\n",
       "      <th></th>\n",
       "      <th>codigo_estacion</th>\n",
       "      <th>codigo_parada</th>\n",
       "      <th>nombre_parada</th>\n",
       "      <th>linea</th>\n",
       "      <th>direccion_parada</th>\n",
       "      <th>cp_parada</th>\n",
       "      <th>distrito_parada</th>\n",
       "    </tr>\n",
       "  </thead>\n",
       "  <tbody>\n",
       "    <tr>\n",
       "      <th>0</th>\n",
       "      <td>3061</td>\n",
       "      <td>2522</td>\n",
       "      <td>AV.PABLO NERUDA-MALGRAT MAR</td>\n",
       "      <td>54</td>\n",
       "      <td>Avda de Pablo Neruda 2</td>\n",
       "      <td>28038</td>\n",
       "      <td>13</td>\n",
       "    </tr>\n",
       "    <tr>\n",
       "      <th>1</th>\n",
       "      <td>3061</td>\n",
       "      <td>2522</td>\n",
       "      <td>AV.PABLO NERUDA-MALGRAT MAR</td>\n",
       "      <td>142</td>\n",
       "      <td>Avda de Pablo Neruda 2</td>\n",
       "      <td>28038</td>\n",
       "      <td>13</td>\n",
       "    </tr>\n",
       "    <tr>\n",
       "      <th>2</th>\n",
       "      <td>3061</td>\n",
       "      <td>2522</td>\n",
       "      <td>AV.PABLO NERUDA-MALGRAT MAR</td>\n",
       "      <td>144</td>\n",
       "      <td>Avda de Pablo Neruda 2</td>\n",
       "      <td>28038</td>\n",
       "      <td>13</td>\n",
       "    </tr>\n",
       "    <tr>\n",
       "      <th>3</th>\n",
       "      <td>3007</td>\n",
       "      <td>1748</td>\n",
       "      <td>CERRO DEL CASTAÑAR-MORALZARZAL</td>\n",
       "      <td>134</td>\n",
       "      <td>Calle del Cerro del Castañar 167</td>\n",
       "      <td>28034</td>\n",
       "      <td>8</td>\n",
       "    </tr>\n",
       "    <tr>\n",
       "      <th>4</th>\n",
       "      <td>3066</td>\n",
       "      <td>2530</td>\n",
       "      <td>ANDALUCES-SAN CLAUDIO</td>\n",
       "      <td>54</td>\n",
       "      <td>Calle de los Andaluces 9</td>\n",
       "      <td>28038</td>\n",
       "      <td>13</td>\n",
       "    </tr>\n",
       "    <tr>\n",
       "      <th>...</th>\n",
       "      <td>...</td>\n",
       "      <td>...</td>\n",
       "      <td>...</td>\n",
       "      <td>...</td>\n",
       "      <td>...</td>\n",
       "      <td>...</td>\n",
       "      <td>...</td>\n",
       "    </tr>\n",
       "    <tr>\n",
       "      <th>11099</th>\n",
       "      <td>6872</td>\n",
       "      <td>5438</td>\n",
       "      <td>SECUNDINO ZUAZO-JOSEFINA ALDECOA</td>\n",
       "      <td>BR1</td>\n",
       "      <td>Avda  Provisional Parque de Valdebebas Diez 99</td>\n",
       "      <td>28055</td>\n",
       "      <td>16</td>\n",
       "    </tr>\n",
       "    <tr>\n",
       "      <th>11100</th>\n",
       "      <td>6873</td>\n",
       "      <td>5433</td>\n",
       "      <td>SECUNDINO ZUAZO-FINA DE CALDERÓN</td>\n",
       "      <td>BR1</td>\n",
       "      <td>Calle  Provisional Parque de Valdebebas Once 44</td>\n",
       "      <td>28055</td>\n",
       "      <td>16</td>\n",
       "    </tr>\n",
       "    <tr>\n",
       "      <th>11101</th>\n",
       "      <td>6874</td>\n",
       "      <td>5434</td>\n",
       "      <td>SECUNDINO ZUAZO-FINA DE CALDERÓN</td>\n",
       "      <td>BR1</td>\n",
       "      <td>Avda  Provisional Parque de Valdebebas Diez 62</td>\n",
       "      <td>28055</td>\n",
       "      <td>16</td>\n",
       "    </tr>\n",
       "    <tr>\n",
       "      <th>11102</th>\n",
       "      <td>6876</td>\n",
       "      <td>5974</td>\n",
       "      <td>MARÍA DE LAS MERCEDES DE BORBÓN-GTA.ANTONIO BATET</td>\n",
       "      <td>BR1</td>\n",
       "      <td>Calle  Provisional Parque de Valdebebas Veinti...</td>\n",
       "      <td>28055</td>\n",
       "      <td>16</td>\n",
       "    </tr>\n",
       "    <tr>\n",
       "      <th>11103</th>\n",
       "      <td>6878</td>\n",
       "      <td>5975</td>\n",
       "      <td>MARÍA DE LAS MERCEDES DE BORBÓN-FÉLIX CANDELA</td>\n",
       "      <td>BR1</td>\n",
       "      <td>Calle  Provisional Parque de Valdebebas Veinti...</td>\n",
       "      <td>28055</td>\n",
       "      <td>16</td>\n",
       "    </tr>\n",
       "  </tbody>\n",
       "</table>\n",
       "<p>11104 rows × 7 columns</p>\n",
       "</div>"
      ],
      "text/plain": [
       "       codigo_estacion  codigo_parada  \\\n",
       "0                 3061           2522   \n",
       "1                 3061           2522   \n",
       "2                 3061           2522   \n",
       "3                 3007           1748   \n",
       "4                 3066           2530   \n",
       "...                ...            ...   \n",
       "11099             6872           5438   \n",
       "11100             6873           5433   \n",
       "11101             6874           5434   \n",
       "11102             6876           5974   \n",
       "11103             6878           5975   \n",
       "\n",
       "                                           nombre_parada linea  \\\n",
       "0                            AV.PABLO NERUDA-MALGRAT MAR    54   \n",
       "1                            AV.PABLO NERUDA-MALGRAT MAR   142   \n",
       "2                            AV.PABLO NERUDA-MALGRAT MAR   144   \n",
       "3                         CERRO DEL CASTAÑAR-MORALZARZAL   134   \n",
       "4                                  ANDALUCES-SAN CLAUDIO    54   \n",
       "...                                                  ...   ...   \n",
       "11099                   SECUNDINO ZUAZO-JOSEFINA ALDECOA   BR1   \n",
       "11100                   SECUNDINO ZUAZO-FINA DE CALDERÓN   BR1   \n",
       "11101                   SECUNDINO ZUAZO-FINA DE CALDERÓN   BR1   \n",
       "11102  MARÍA DE LAS MERCEDES DE BORBÓN-GTA.ANTONIO BATET   BR1   \n",
       "11103      MARÍA DE LAS MERCEDES DE BORBÓN-FÉLIX CANDELA   BR1   \n",
       "\n",
       "                                        direccion_parada  cp_parada  \\\n",
       "0                                 Avda de Pablo Neruda 2      28038   \n",
       "1                                 Avda de Pablo Neruda 2      28038   \n",
       "2                                 Avda de Pablo Neruda 2      28038   \n",
       "3                       Calle del Cerro del Castañar 167      28034   \n",
       "4                               Calle de los Andaluces 9      28038   \n",
       "...                                                  ...        ...   \n",
       "11099     Avda  Provisional Parque de Valdebebas Diez 99      28055   \n",
       "11100    Calle  Provisional Parque de Valdebebas Once 44      28055   \n",
       "11101     Avda  Provisional Parque de Valdebebas Diez 62      28055   \n",
       "11102  Calle  Provisional Parque de Valdebebas Veinti...      28055   \n",
       "11103  Calle  Provisional Parque de Valdebebas Veinti...      28055   \n",
       "\n",
       "       distrito_parada  \n",
       "0                   13  \n",
       "1                   13  \n",
       "2                   13  \n",
       "3                    8  \n",
       "4                   13  \n",
       "...                ...  \n",
       "11099               16  \n",
       "11100               16  \n",
       "11101               16  \n",
       "11102               16  \n",
       "11103               16  \n",
       "\n",
       "[11104 rows x 7 columns]"
      ]
     },
     "execution_count": 21,
     "metadata": {},
     "output_type": "execute_result"
    }
   ],
   "source": [
    "emt_csv = pd.read_csv('../data/emt-data-clean.csv')\n",
    "emt_csv"
   ]
  },
  {
   "cell_type": "code",
   "execution_count": 51,
   "metadata": {},
   "outputs": [
    {
     "data": {
      "text/plain": [
       "223"
      ]
     },
     "execution_count": 51,
     "metadata": {},
     "output_type": "execute_result"
    }
   ],
   "source": [
    "# Obtener valores únicos de la columna 'linea'\n",
    "valores_unicos = emt_csv['linea'].unique()\n",
    "\n",
    "# Convertir numpy.ndarray a lista\n",
    "lista_lineas = valores_unicos.tolist()\n",
    "len(lista_lineas)"
   ]
  },
  {
   "cell_type": "code",
   "execution_count": 52,
   "metadata": {},
   "outputs": [],
   "source": [
    "import requests\n",
    "\n",
    "itinerario_lineas = []\n",
    "\n",
    "for linea in lista_lineas:\n",
    "\n",
    "    # URL de la API\n",
    "    url_api = f'https://openapi.emtmadrid.es/v1/transport/busemtmad/lines/{linea}/route/'\n",
    "\n",
    "    # Datos de autenticación\n",
    "    accessToken = '754dac88-d8c1-11ee-82f2-26e8a1204cbd'\n",
    "\n",
    "    headers = {\n",
    "        'accessToken': accessToken\n",
    "    }\n",
    "\n",
    "    try:\n",
    "        # Realizar la solicitud GET\n",
    "        response = requests.get(url_api, headers=headers)\n",
    "\n",
    "        # Verificar si la solicitud fue exitosa\n",
    "        if response.status_code == 200:\n",
    "            # Procesar la respuesta JSON\n",
    "            data = response.json()\n",
    "            # Aquí puedes trabajar con los datos recibidos\n",
    "            itinerario_lineas.append(data)\n",
    "        else:\n",
    "            print(\"Error en la solicitud:\", response.status_code)\n",
    "\n",
    "    except requests.exceptions.RequestException as e:\n",
    "        # Capturar excepciones de solicitud\n",
    "        print(\"Error en la solicitud:\", e)"
   ]
  },
  {
   "cell_type": "markdown",
   "metadata": {},
   "source": [
    "En una dirección (toA)"
   ]
  },
  {
   "cell_type": "code",
   "execution_count": 105,
   "metadata": {},
   "outputs": [
    {
     "name": "stderr",
     "output_type": "stream",
     "text": [
      "100%|██████████| 223/223 [00:00<00:00, 84263.95it/s]\n"
     ]
    }
   ],
   "source": [
    "datos = []\n",
    "for linea in tqdm(itinerario_lineas):\n",
    "    num_linea = linea.get('data').get('line')\n",
    "    dicc = linea.get('data').get('stops').get('toA')\n",
    "    for feature in dicc['features']:\n",
    "        stopNum = feature['properties']['stopNum']\n",
    "        latitude =  feature['geometry']['coordinates'][0]\n",
    "        longitude = feature['geometry']['coordinates'][1]\n",
    "        distance = feature['properties']['distance']\n",
    "        linea = num_linea\n",
    "        datos.append({'linea':linea, 'stopNum': stopNum,  'latitude':latitude, 'longitude': longitude,'distance': distance})\n",
    "\n",
    "df_stops_toA = pd.DataFrame(datos)"
   ]
  },
  {
   "cell_type": "code",
   "execution_count": 106,
   "metadata": {},
   "outputs": [],
   "source": [
    "df_stops_toA.to_csv('../data/stops_toA.csv', index=False)"
   ]
  },
  {
   "cell_type": "markdown",
   "metadata": {},
   "source": [
    "En otra dirección (toB)"
   ]
  },
  {
   "cell_type": "code",
   "execution_count": 103,
   "metadata": {},
   "outputs": [
    {
     "name": "stderr",
     "output_type": "stream",
     "text": [
      "100%|██████████| 223/223 [00:00<00:00, 46344.75it/s]\n"
     ]
    }
   ],
   "source": [
    "datos = []\n",
    "for linea in tqdm(itinerario_lineas):\n",
    "    num_linea = linea.get('data').get('line')\n",
    "    dicc = linea.get('data').get('stops').get('toB')\n",
    "    for feature in dicc['features']:\n",
    "        stopNum = feature['properties']['stopNum']\n",
    "        longitude = feature['geometry']['coordinates'][0]\n",
    "        latitude =  feature['geometry']['coordinates'][1]\n",
    "        distance = feature['properties']['distance']\n",
    "        linea = num_linea\n",
    "        datos.append({'linea':linea, 'stopNum': stopNum, 'longitude': longitude, 'latitude':latitude, 'distance': distance})\n",
    "\n",
    "df_stops_toB = pd.DataFrame(datos)"
   ]
  },
  {
   "cell_type": "code",
   "execution_count": 104,
   "metadata": {},
   "outputs": [],
   "source": [
    "df_stops_toB.to_csv('../data/stops_toB.csv', index=False)"
   ]
  }
 ],
 "metadata": {
  "kernelspec": {
   "display_name": ".venv",
   "language": "python",
   "name": "python3"
  },
  "language_info": {
   "codemirror_mode": {
    "name": "ipython",
    "version": 3
   },
   "file_extension": ".py",
   "mimetype": "text/x-python",
   "name": "python",
   "nbconvert_exporter": "python",
   "pygments_lexer": "ipython3",
   "version": "3.9.13"
  }
 },
 "nbformat": 4,
 "nbformat_minor": 2
}
