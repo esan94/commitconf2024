{
 "cells": [
  {
   "cell_type": "markdown",
   "metadata": {},
   "source": [
    "# Network Analysis"
   ]
  },
  {
   "cell_type": "markdown",
   "metadata": {},
   "source": [
    "## Libraries"
   ]
  },
  {
   "cell_type": "code",
   "execution_count": 5,
   "metadata": {},
   "outputs": [
    {
     "data": {
      "text/html": [
       "<div>\n",
       "<style scoped>\n",
       "    .dataframe tbody tr th:only-of-type {\n",
       "        vertical-align: middle;\n",
       "    }\n",
       "\n",
       "    .dataframe tbody tr th {\n",
       "        vertical-align: top;\n",
       "    }\n",
       "\n",
       "    .dataframe thead th {\n",
       "        text-align: right;\n",
       "    }\n",
       "</style>\n",
       "<table border=\"1\" class=\"dataframe\">\n",
       "  <thead>\n",
       "    <tr style=\"text-align: right;\">\n",
       "      <th></th>\n",
       "      <th>edge</th>\n",
       "      <th>nodes</th>\n",
       "    </tr>\n",
       "  </thead>\n",
       "  <tbody>\n",
       "    <tr>\n",
       "      <th>0</th>\n",
       "      <td>hola</td>\n",
       "      <td>mundo</td>\n",
       "    </tr>\n",
       "    <tr>\n",
       "      <th>1</th>\n",
       "      <td>hola</td>\n",
       "      <td>que poas</td>\n",
       "    </tr>\n",
       "    <tr>\n",
       "      <th>2</th>\n",
       "      <td>qq</td>\n",
       "      <td>pp</td>\n",
       "    </tr>\n",
       "    <tr>\n",
       "      <th>3</th>\n",
       "      <td>qq</td>\n",
       "      <td>phs</td>\n",
       "    </tr>\n",
       "  </tbody>\n",
       "</table>\n",
       "</div>"
      ],
      "text/plain": [
       "   edge     nodes\n",
       "0  hola     mundo\n",
       "1  hola  que poas\n",
       "2    qq        pp\n",
       "3    qq       phs"
      ]
     },
     "execution_count": 5,
     "metadata": {},
     "output_type": "execute_result"
    }
   ],
   "source": [
    "import pandas as pd\n",
    "\n",
    "df = pd.DataFrame({\"hola\": [\"mundo\", \"que poas\"], \"qq\": [\"pp\", \"phs\"]})\n",
    "df.unstack().reset_index(drop=False).drop(columns=\"level_1\").rename(columns={\"level_0\": \"edge\", 0: \"nodes\"})"
   ]
  },
  {
   "cell_type": "code",
   "execution_count": 1,
   "metadata": {},
   "outputs": [],
   "source": [
    "import networkx as nx\n",
    "import pandas as pd\n",
    "import matplotlib.pyplot as plt\n",
    "import random\n",
    "from network_tools import generate_network_relations, get_k_connected_components, get_basic_statistics\n",
    "\n",
    "pd.set_option(\"display.max_columns\", None)"
   ]
  },
  {
   "cell_type": "code",
   "execution_count": 2,
   "metadata": {},
   "outputs": [],
   "source": [
    "def generar_coordenadas(num_coordenadas):\n",
    "    latitudes = []\n",
    "    longitudes = []\n",
    "\n",
    "    for _ in range(num_coordenadas):\n",
    "        # Generar latitud aleatoria dentro de los límites de España\n",
    "        lat = random.uniform(40, 41)\n",
    "        latitudes.append(lat)\n",
    "\n",
    "        # Generar longitud aleatoria dentro de los límites de España\n",
    "        lon = random.uniform(-4, -3)\n",
    "        longitudes.append(lon)\n",
    "\n",
    "    return latitudes, longitudes"
   ]
  },
  {
   "cell_type": "markdown",
   "metadata": {},
   "source": [
    "## Filter"
   ]
  },
  {
   "cell_type": "code",
   "execution_count": 3,
   "metadata": {},
   "outputs": [],
   "source": [
    "raw_allowed_edges = pd.read_csv(\"../data/emt-linea-data-clean.csv\")\n",
    "raw_allowed_edges[\"from_codigo_estacion\"] = raw_allowed_edges[\"from_codigo_estacion\"].astype(str).str.zfill(4)\n",
    "raw_allowed_edges[\"to_codigo_estacion\"] = raw_allowed_edges[\"to_codigo_estacion\"].astype(str).str.zfill(4)"
   ]
  },
  {
   "cell_type": "code",
   "execution_count": 4,
   "metadata": {},
   "outputs": [
    {
     "data": {
      "text/html": [
       "<div>\n",
       "<style scoped>\n",
       "    .dataframe tbody tr th:only-of-type {\n",
       "        vertical-align: middle;\n",
       "    }\n",
       "\n",
       "    .dataframe tbody tr th {\n",
       "        vertical-align: top;\n",
       "    }\n",
       "\n",
       "    .dataframe thead th {\n",
       "        text-align: right;\n",
       "    }\n",
       "</style>\n",
       "<table border=\"1\" class=\"dataframe\">\n",
       "  <thead>\n",
       "    <tr style=\"text-align: right;\">\n",
       "      <th></th>\n",
       "      <th>from_codigo_estacion</th>\n",
       "      <th>to_codigo_estacion</th>\n",
       "      <th>edge</th>\n",
       "    </tr>\n",
       "  </thead>\n",
       "  <tbody>\n",
       "    <tr>\n",
       "      <th>11107</th>\n",
       "      <td>1548</td>\n",
       "      <td>0352</td>\n",
       "      <td>U</td>\n",
       "    </tr>\n",
       "    <tr>\n",
       "      <th>11108</th>\n",
       "      <td>0352</td>\n",
       "      <td>1545</td>\n",
       "      <td>U</td>\n",
       "    </tr>\n",
       "    <tr>\n",
       "      <th>11109</th>\n",
       "      <td>1545</td>\n",
       "      <td>1546</td>\n",
       "      <td>U</td>\n",
       "    </tr>\n",
       "  </tbody>\n",
       "</table>\n",
       "</div>"
      ],
      "text/plain": [
       "      from_codigo_estacion to_codigo_estacion edge\n",
       "11107                 1548               0352    U\n",
       "11108                 0352               1545    U\n",
       "11109                 1545               1546    U"
      ]
     },
     "execution_count": 4,
     "metadata": {},
     "output_type": "execute_result"
    }
   ],
   "source": [
    "raw_allowed_edges.tail(3)"
   ]
  },
  {
   "cell_type": "code",
   "execution_count": 5,
   "metadata": {},
   "outputs": [
    {
     "name": "stdout",
     "output_type": "stream",
     "text": [
      "(11104, 7)\n"
     ]
    }
   ],
   "source": [
    "raw_data = pd.read_csv(\"../data/emt-data-clean.csv\")\n",
    "raw_data[\"codigo_estacion\"] = raw_data[\"codigo_estacion\"].astype(str).str.zfill(4)\n",
    "raw_data[\"codigo_parada\"] = raw_data[\"codigo_parada\"].astype(str).str.zfill(5)\n",
    "raw_data[\"cp_parada\"] = raw_data[\"cp_parada\"].astype(str)\n",
    "raw_data[\"distrito_parada\"] = raw_data[\"distrito_parada\"].astype(str)\n",
    "print(raw_data.shape)"
   ]
  },
  {
   "cell_type": "code",
   "execution_count": 6,
   "metadata": {},
   "outputs": [
    {
     "name": "stdout",
     "output_type": "stream",
     "text": [
      "(11054, 9)\n"
     ]
    }
   ],
   "source": [
    "## Auxiliar\n",
    "# aux = raw_data[[\"codigo_parada\"]].drop_duplicates(keep=\"first\")\n",
    "# latitude, longitude = generar_coordenadas(num_coordenadas=aux.shape[0])\n",
    "# aux[\"lat\"] = latitude\n",
    "# aux[\"lon\"] = longitude\n",
    "aux = pd.read_csv(\"../data/longitude_latitude.csv\")\n",
    "aux = aux.rename(columns={\"longitud\": \"lon\", \"latitud\": \"lat\"})\n",
    "aux[\"codigo_parada\"] = aux[\"codigo_parada\"].astype(str).str.zfill(5)\n",
    "raw_data = pd.merge(left=raw_data, right=aux, how=\"inner\", on=\"codigo_parada\")\n",
    "print(raw_data.shape)"
   ]
  },
  {
   "cell_type": "code",
   "execution_count": 7,
   "metadata": {},
   "outputs": [],
   "source": [
    "raw_data[\"lat_distrito\"] = raw_data.groupby([\"distrito_parada\"])[\"lat\"].transform(\"mean\")\n",
    "raw_data[\"lon_distrito\"] = raw_data.groupby([\"distrito_parada\"])[\"lon\"].transform(\"mean\")\n",
    "\n",
    "raw_data[\"lat_cp\"] = raw_data.groupby([\"cp_parada\"])[\"lat\"].transform(\"mean\")\n",
    "raw_data[\"lon_cp\"] = raw_data.groupby([\"cp_parada\"])[\"lon\"].transform(\"mean\")"
   ]
  },
  {
   "cell_type": "code",
   "execution_count": 8,
   "metadata": {},
   "outputs": [],
   "source": [
    "from_data = raw_data.copy(deep=True)\n",
    "to_data = raw_data.copy(deep=True)\n",
    "\n",
    "from_data.columns = [f\"from_{col}\" for col in from_data.columns]\n",
    "to_data.columns = [f\"to_{col}\" for col in to_data.columns]"
   ]
  },
  {
   "cell_type": "code",
   "execution_count": 9,
   "metadata": {},
   "outputs": [
    {
     "data": {
      "text/plain": [
       "(623646, 26)"
      ]
     },
     "execution_count": 9,
     "metadata": {},
     "output_type": "execute_result"
    }
   ],
   "source": [
    "net_data = pd.merge(left=from_data, right=to_data, how=\"inner\", left_on=\"from_linea\", right_on=\"to_linea\")\n",
    "net_data = net_data[net_data[\"from_codigo_parada\"] != net_data[\"to_codigo_parada\"]]\n",
    "net_data.shape"
   ]
  },
  {
   "cell_type": "code",
   "execution_count": 10,
   "metadata": {},
   "outputs": [],
   "source": [
    "raw_allowed_edges = raw_allowed_edges.rename(columns={\n",
    "    \"edge\": \"from_linea\",\n",
    "})"
   ]
  },
  {
   "cell_type": "code",
   "execution_count": 11,
   "metadata": {},
   "outputs": [
    {
     "data": {
      "text/plain": [
       "(11011, 26)"
      ]
     },
     "execution_count": 11,
     "metadata": {},
     "output_type": "execute_result"
    }
   ],
   "source": [
    "net_data = pd.merge(\n",
    "    left=net_data, \n",
    "    right=raw_allowed_edges, \n",
    "    how=\"inner\", \n",
    "    on=[\"from_codigo_estacion\", \"to_codigo_estacion\", \"from_linea\"]\n",
    "    )\n",
    "net_data.shape"
   ]
  },
  {
   "cell_type": "markdown",
   "metadata": {},
   "source": [
    "### Bus stops as nodes"
   ]
  },
  {
   "cell_type": "code",
   "execution_count": 12,
   "metadata": {},
   "outputs": [
    {
     "data": {
      "text/plain": [
       "(11011, 25)"
      ]
     },
     "execution_count": 12,
     "metadata": {},
     "output_type": "execute_result"
    }
   ],
   "source": [
    "net_busstop_data = net_data[net_data[\"from_codigo_parada\"] != net_data[\"to_codigo_parada\"]]\n",
    "net_busstop_data = net_busstop_data.drop(columns=[\"to_linea\"])\n",
    "net_busstop_data = net_busstop_data.rename(columns={\"from_linea\": \"edge\"})\n",
    "net_busstop_data.shape"
   ]
  },
  {
   "cell_type": "markdown",
   "metadata": {},
   "source": [
    "### Postal code as nodes"
   ]
  },
  {
   "cell_type": "code",
   "execution_count": 13,
   "metadata": {},
   "outputs": [
    {
     "data": {
      "text/plain": [
       "(1778, 25)"
      ]
     },
     "execution_count": 13,
     "metadata": {},
     "output_type": "execute_result"
    }
   ],
   "source": [
    "net_cp_data = net_data[net_data[\"from_cp_parada\"] != net_data[\"to_cp_parada\"]]\n",
    "net_cp_data = net_cp_data.drop(columns=[\"to_linea\"])\n",
    "net_cp_data = net_cp_data.rename(columns={\"from_linea\": \"edge\"})\n",
    "net_cp_data.shape"
   ]
  },
  {
   "cell_type": "markdown",
   "metadata": {},
   "source": [
    "### Distrito as nodes"
   ]
  },
  {
   "cell_type": "code",
   "execution_count": 14,
   "metadata": {},
   "outputs": [
    {
     "data": {
      "text/plain": [
       "(1047, 25)"
      ]
     },
     "execution_count": 14,
     "metadata": {},
     "output_type": "execute_result"
    }
   ],
   "source": [
    "net_distrito_data = net_data[net_data[\"from_distrito_parada\"] != net_data[\"to_distrito_parada\"]]\n",
    "net_distrito_data = net_distrito_data.drop(columns=[\"to_linea\"])\n",
    "net_distrito_data = net_distrito_data.rename(columns={\"from_linea\": \"edge\"})\n",
    "net_distrito_data.shape"
   ]
  },
  {
   "cell_type": "markdown",
   "metadata": {},
   "source": [
    "## Data graphs"
   ]
  },
  {
   "cell_type": "markdown",
   "metadata": {},
   "source": [
    "### Distrito"
   ]
  },
  {
   "cell_type": "code",
   "execution_count": 15,
   "metadata": {},
   "outputs": [],
   "source": [
    "distrito_cols = [\n",
    "    \"from_distrito_parada\", \"to_distrito_parada\", \"edge\", \"from_lat_distrito\", \"from_lon_distrito\", \"to_lat_distrito\", \"to_lon_distrito\"\n",
    "    ]"
   ]
  },
  {
   "cell_type": "code",
   "execution_count": 16,
   "metadata": {},
   "outputs": [
    {
     "data": {
      "text/plain": [
       "(994, 7)"
      ]
     },
     "execution_count": 16,
     "metadata": {},
     "output_type": "execute_result"
    }
   ],
   "source": [
    "net_distrito_data_s = net_distrito_data[distrito_cols].drop_duplicates(keep=\"first\")\n",
    "net_distrito_data_s.shape"
   ]
  },
  {
   "cell_type": "code",
   "execution_count": 17,
   "metadata": {},
   "outputs": [],
   "source": [
    "min_lat, max_lat = net_distrito_data_s[[\"from_lat_distrito\", \"to_lat_distrito\"]].min().min(), net_distrito_data_s[[\"from_lat_distrito\", \"to_lat_distrito\"]].max().max()\n",
    "min_lon, max_lon = net_distrito_data_s[[\"from_lon_distrito\", \"to_lon_distrito\"]].min().min(), net_distrito_data_s[[\"from_lon_distrito\", \"to_lon_distrito\"]].max().max()\n",
    "\n",
    "normalize = lambda x, min_x, max_x: (x - min_x) / (max_x - min_x)"
   ]
  },
  {
   "cell_type": "code",
   "execution_count": 18,
   "metadata": {},
   "outputs": [],
   "source": [
    "net_distrito_data_s[\"from_lat_distrito\"] = net_distrito_data_s[\"from_lat_distrito\"].apply(normalize, args=(min_lat, max_lat))\n",
    "net_distrito_data_s[\"from_lon_distrito\"] = net_distrito_data_s[\"from_lon_distrito\"].apply(normalize, args=(min_lon, max_lon))\n",
    "net_distrito_data_s[\"to_lat_distrito\"] = net_distrito_data_s[\"to_lat_distrito\"].apply(normalize, args=(min_lat, max_lat))\n",
    "net_distrito_data_s[\"to_lon_distrito\"] = net_distrito_data_s[\"to_lon_distrito\"].apply(normalize, args=(min_lon, max_lon))\n",
    "\n",
    "net_distrito_data_s[\"n_buses_between\"] = net_distrito_data_s.groupby([\"from_distrito_parada\", \"to_distrito_parada\"]).transform(\"size\")\n",
    "net_distrito_data_s[\"weights\"] = net_distrito_data_s[\"n_buses_between\"] / net_distrito_data_s[\"n_buses_between\"].max()"
   ]
  },
  {
   "cell_type": "code",
   "execution_count": 19,
   "metadata": {},
   "outputs": [],
   "source": [
    "net_distrito_data_s = net_distrito_data_s.rename(columns={\n",
    "    \"from_distrito_parada\": \"from_node\",\n",
    "    \"from_lat_distrito\": \"from_lat\",\n",
    "    \"from_lon_distrito\": \"from_lon\",\n",
    "    \"to_distrito_parada\": \"to_node\",\n",
    "    \"to_lat_distrito\": \"to_lat\",\n",
    "    \"to_lon_distrito\": \"to_lon\",\n",
    "    \"n_buses_between\": \"n_buses\",\n",
    "    \"weights\": \"weight\"\n",
    "})\n",
    "net_distrito_data_s.to_csv(\"../data/net_distrito.csv\", index=False)"
   ]
  },
  {
   "cell_type": "markdown",
   "metadata": {},
   "source": [
    "### CP"
   ]
  },
  {
   "cell_type": "code",
   "execution_count": 20,
   "metadata": {},
   "outputs": [],
   "source": [
    "cp_cols = [\n",
    "    \"from_cp_parada\", \"to_cp_parada\", \"edge\", \"from_lat_cp\", \"from_lon_cp\", \"to_lat_cp\", \"to_lon_cp\"\n",
    "    ]"
   ]
  },
  {
   "cell_type": "code",
   "execution_count": 21,
   "metadata": {},
   "outputs": [
    {
     "data": {
      "text/plain": [
       "(1649, 7)"
      ]
     },
     "execution_count": 21,
     "metadata": {},
     "output_type": "execute_result"
    }
   ],
   "source": [
    "net_cp_data_s = net_cp_data[cp_cols].drop_duplicates(keep=\"first\")\n",
    "net_cp_data_s.shape"
   ]
  },
  {
   "cell_type": "code",
   "execution_count": 22,
   "metadata": {},
   "outputs": [],
   "source": [
    "min_lat, max_lat = net_cp_data_s[[\"from_lat_cp\", \"to_lat_cp\"]].min().min(), net_cp_data_s[[\"from_lat_cp\", \"to_lat_cp\"]].max().max()\n",
    "min_lon, max_lon = net_cp_data_s[[\"from_lon_cp\", \"to_lon_cp\"]].min().min(), net_cp_data_s[[\"from_lon_cp\", \"to_lon_cp\"]].max().max()\n",
    "\n",
    "normalize = lambda x, min_x, max_x: (x - min_x) / (max_x - min_x)"
   ]
  },
  {
   "cell_type": "code",
   "execution_count": 23,
   "metadata": {},
   "outputs": [],
   "source": [
    "net_cp_data_s[\"from_lat_cp\"] = net_cp_data_s[\"from_lat_cp\"].apply(normalize, args=(min_lat, max_lat))\n",
    "net_cp_data_s[\"from_lon_cp\"] = net_cp_data_s[\"from_lon_cp\"].apply(normalize, args=(min_lon, max_lon))\n",
    "net_cp_data_s[\"to_lat_cp\"] = net_cp_data_s[\"to_lat_cp\"].apply(normalize, args=(min_lat, max_lat))\n",
    "net_cp_data_s[\"to_lon_cp\"] = net_cp_data_s[\"to_lon_cp\"].apply(normalize, args=(min_lon, max_lon))\n",
    "\n",
    "net_cp_data_s[\"n_buses_between\"] = net_cp_data_s.groupby([\"from_cp_parada\", \"to_cp_parada\"]).transform(\"size\")\n",
    "net_cp_data_s[\"weights\"] = net_cp_data_s[\"n_buses_between\"] / net_cp_data_s[\"n_buses_between\"].max()"
   ]
  },
  {
   "cell_type": "code",
   "execution_count": 24,
   "metadata": {},
   "outputs": [],
   "source": [
    "net_cp_data_s = net_cp_data_s.rename(columns={\n",
    "    \"from_cp_parada\": \"from_node\",\n",
    "    \"from_lat_cp\": \"from_lat\",\n",
    "    \"from_lon_cp\": \"from_lon\",\n",
    "    \"to_cp_parada\": \"to_node\",\n",
    "    \"to_lat_cp\": \"to_lat\",\n",
    "    \"to_lon_cp\": \"to_lon\",\n",
    "    \"n_buses_between\": \"n_buses\",\n",
    "    \"weights\": \"weight\"\n",
    "})\n",
    "net_cp_data_s.to_csv(\"../data/net_cp.csv\", index=False)"
   ]
  },
  {
   "cell_type": "markdown",
   "metadata": {},
   "source": [
    "### Bus stop"
   ]
  },
  {
   "cell_type": "code",
   "execution_count": 25,
   "metadata": {},
   "outputs": [],
   "source": [
    "bus_cols = [\n",
    "    \"from_codigo_parada\", \"to_codigo_parada\", \"edge\", \"from_lat\", \"from_lon\", \"to_lat\", \"to_lon\"\n",
    "    ]"
   ]
  },
  {
   "cell_type": "code",
   "execution_count": 26,
   "metadata": {},
   "outputs": [
    {
     "data": {
      "text/plain": [
       "(10934, 7)"
      ]
     },
     "execution_count": 26,
     "metadata": {},
     "output_type": "execute_result"
    }
   ],
   "source": [
    "net_busstop_data_s = net_busstop_data[bus_cols].drop_duplicates(keep=\"first\")\n",
    "net_busstop_data_s.shape"
   ]
  },
  {
   "cell_type": "code",
   "execution_count": 27,
   "metadata": {},
   "outputs": [],
   "source": [
    "min_lat, max_lat = net_busstop_data_s[[\"from_lat\", \"to_lat\"]].min().min(), net_busstop_data_s[[\"from_lat\", \"to_lat\"]].max().max()\n",
    "min_lon, max_lon = net_busstop_data_s[[\"from_lon\", \"to_lon\"]].min().min(), net_busstop_data_s[[\"from_lon\", \"to_lon\"]].max().max()\n",
    "\n",
    "normalize = lambda x, min_x, max_x: (x - min_x) / (max_x - min_x)"
   ]
  },
  {
   "cell_type": "code",
   "execution_count": 28,
   "metadata": {},
   "outputs": [],
   "source": [
    "net_busstop_data_s[\"from_lat\"] = net_busstop_data_s[\"from_lat\"].apply(normalize, args=(min_lat, max_lat))\n",
    "net_busstop_data_s[\"from_lon\"] = net_busstop_data_s[\"from_lon\"].apply(normalize, args=(min_lon, max_lon))\n",
    "net_busstop_data_s[\"to_lat\"] = net_busstop_data_s[\"to_lat\"].apply(normalize, args=(min_lat, max_lat))\n",
    "net_busstop_data_s[\"to_lon\"] = net_busstop_data_s[\"to_lon\"].apply(normalize, args=(min_lon, max_lon))\n",
    "\n",
    "net_busstop_data_s[\"n_buses_between\"] = net_busstop_data_s.groupby([\"from_codigo_parada\", \"to_codigo_parada\"]).transform(\"size\")\n",
    "net_busstop_data_s[\"weights\"] = net_busstop_data_s[\"n_buses_between\"] / net_busstop_data_s[\"n_buses_between\"].max()"
   ]
  },
  {
   "cell_type": "code",
   "execution_count": 29,
   "metadata": {},
   "outputs": [],
   "source": [
    "net_busstop_data_s = net_busstop_data_s.rename(columns={\n",
    "    \"from_codigo_parada\": \"from_node\",\n",
    "    \"to_codigo_parada\": \"to_node\",\n",
    "    \"n_buses_between\": \"n_buses\",\n",
    "    \"weights\": \"weight\"\n",
    "})\n",
    "net_busstop_data_s.to_csv(\"../data/net_busstop.csv\", index=False)"
   ]
  },
  {
   "cell_type": "markdown",
   "metadata": {},
   "source": [
    "## Graphs"
   ]
  },
  {
   "cell_type": "code",
   "execution_count": 13,
   "metadata": {},
   "outputs": [],
   "source": [
    "net_busstop = pd.read_csv(\"../data/net_busstop.csv\")\n",
    "net_cp = pd.read_csv(\"../data/net_cp.csv\")"
   ]
  },
  {
   "cell_type": "code",
   "execution_count": 14,
   "metadata": {},
   "outputs": [
    {
     "data": {
      "text/plain": [
       "(1662, 9)"
      ]
     },
     "execution_count": 14,
     "metadata": {},
     "output_type": "execute_result"
    }
   ],
   "source": [
    "net_cp.shape"
   ]
  },
  {
   "cell_type": "code",
   "execution_count": 1,
   "metadata": {},
   "outputs": [
    {
     "data": {
      "text/html": [
       "<div>\n",
       "<style scoped>\n",
       "    .dataframe tbody tr th:only-of-type {\n",
       "        vertical-align: middle;\n",
       "    }\n",
       "\n",
       "    .dataframe tbody tr th {\n",
       "        vertical-align: top;\n",
       "    }\n",
       "\n",
       "    .dataframe thead th {\n",
       "        text-align: right;\n",
       "    }\n",
       "</style>\n",
       "<table border=\"1\" class=\"dataframe\">\n",
       "  <thead>\n",
       "    <tr style=\"text-align: right;\">\n",
       "      <th></th>\n",
       "      <th>from_node</th>\n",
       "      <th>to_node</th>\n",
       "      <th>edge</th>\n",
       "      <th>from_lat</th>\n",
       "      <th>from_lon</th>\n",
       "      <th>to_lat</th>\n",
       "      <th>to_lon</th>\n",
       "      <th>n_buses</th>\n",
       "      <th>weight</th>\n",
       "    </tr>\n",
       "  </thead>\n",
       "  <tbody>\n",
       "    <tr>\n",
       "      <th>0</th>\n",
       "      <td>2522</td>\n",
       "      <td>2524</td>\n",
       "      <td>54</td>\n",
       "      <td>0.326574</td>\n",
       "      <td>0.662925</td>\n",
       "      <td>0.320149</td>\n",
       "      <td>0.663283</td>\n",
       "      <td>2</td>\n",
       "      <td>0.117647</td>\n",
       "    </tr>\n",
       "    <tr>\n",
       "      <th>1</th>\n",
       "      <td>2522</td>\n",
       "      <td>3338</td>\n",
       "      <td>142</td>\n",
       "      <td>0.326574</td>\n",
       "      <td>0.662925</td>\n",
       "      <td>0.313324</td>\n",
       "      <td>0.656838</td>\n",
       "      <td>1</td>\n",
       "      <td>0.058824</td>\n",
       "    </tr>\n",
       "    <tr>\n",
       "      <th>2</th>\n",
       "      <td>2522</td>\n",
       "      <td>2524</td>\n",
       "      <td>144</td>\n",
       "      <td>0.326574</td>\n",
       "      <td>0.662925</td>\n",
       "      <td>0.320149</td>\n",
       "      <td>0.663283</td>\n",
       "      <td>2</td>\n",
       "      <td>0.117647</td>\n",
       "    </tr>\n",
       "    <tr>\n",
       "      <th>3</th>\n",
       "      <td>1748</td>\n",
       "      <td>1746</td>\n",
       "      <td>134</td>\n",
       "      <td>0.874613</td>\n",
       "      <td>0.417157</td>\n",
       "      <td>0.862941</td>\n",
       "      <td>0.418579</td>\n",
       "      <td>1</td>\n",
       "      <td>0.058824</td>\n",
       "    </tr>\n",
       "    <tr>\n",
       "      <th>4</th>\n",
       "      <td>2530</td>\n",
       "      <td>2532</td>\n",
       "      <td>54</td>\n",
       "      <td>0.311151</td>\n",
       "      <td>0.681086</td>\n",
       "      <td>0.306375</td>\n",
       "      <td>0.669495</td>\n",
       "      <td>1</td>\n",
       "      <td>0.058824</td>\n",
       "    </tr>\n",
       "    <tr>\n",
       "      <th>...</th>\n",
       "      <td>...</td>\n",
       "      <td>...</td>\n",
       "      <td>...</td>\n",
       "      <td>...</td>\n",
       "      <td>...</td>\n",
       "      <td>...</td>\n",
       "      <td>...</td>\n",
       "      <td>...</td>\n",
       "      <td>...</td>\n",
       "    </tr>\n",
       "    <tr>\n",
       "      <th>10929</th>\n",
       "      <td>5440</td>\n",
       "      <td>5494</td>\n",
       "      <td>BR1</td>\n",
       "      <td>0.871584</td>\n",
       "      <td>0.775407</td>\n",
       "      <td>0.853617</td>\n",
       "      <td>0.775493</td>\n",
       "      <td>1</td>\n",
       "      <td>0.058824</td>\n",
       "    </tr>\n",
       "    <tr>\n",
       "      <th>10930</th>\n",
       "      <td>5435</td>\n",
       "      <td>5433</td>\n",
       "      <td>BR1</td>\n",
       "      <td>0.883424</td>\n",
       "      <td>0.756076</td>\n",
       "      <td>0.883284</td>\n",
       "      <td>0.742373</td>\n",
       "      <td>1</td>\n",
       "      <td>0.058824</td>\n",
       "    </tr>\n",
       "    <tr>\n",
       "      <th>10931</th>\n",
       "      <td>5438</td>\n",
       "      <td>5440</td>\n",
       "      <td>BR1</td>\n",
       "      <td>0.883017</td>\n",
       "      <td>0.756858</td>\n",
       "      <td>0.871584</td>\n",
       "      <td>0.775407</td>\n",
       "      <td>1</td>\n",
       "      <td>0.058824</td>\n",
       "    </tr>\n",
       "    <tr>\n",
       "      <th>10932</th>\n",
       "      <td>5434</td>\n",
       "      <td>5438</td>\n",
       "      <td>BR1</td>\n",
       "      <td>0.882900</td>\n",
       "      <td>0.743017</td>\n",
       "      <td>0.883017</td>\n",
       "      <td>0.756858</td>\n",
       "      <td>1</td>\n",
       "      <td>0.058824</td>\n",
       "    </tr>\n",
       "    <tr>\n",
       "      <th>10933</th>\n",
       "      <td>5975</td>\n",
       "      <td>5434</td>\n",
       "      <td>BR1</td>\n",
       "      <td>0.890426</td>\n",
       "      <td>0.723394</td>\n",
       "      <td>0.882900</td>\n",
       "      <td>0.743017</td>\n",
       "      <td>1</td>\n",
       "      <td>0.058824</td>\n",
       "    </tr>\n",
       "  </tbody>\n",
       "</table>\n",
       "<p>10934 rows × 9 columns</p>\n",
       "</div>"
      ],
      "text/plain": [
       "       from_node  to_node edge  from_lat  from_lon    to_lat    to_lon  \\\n",
       "0           2522     2524   54  0.326574  0.662925  0.320149  0.663283   \n",
       "1           2522     3338  142  0.326574  0.662925  0.313324  0.656838   \n",
       "2           2522     2524  144  0.326574  0.662925  0.320149  0.663283   \n",
       "3           1748     1746  134  0.874613  0.417157  0.862941  0.418579   \n",
       "4           2530     2532   54  0.311151  0.681086  0.306375  0.669495   \n",
       "...          ...      ...  ...       ...       ...       ...       ...   \n",
       "10929       5440     5494  BR1  0.871584  0.775407  0.853617  0.775493   \n",
       "10930       5435     5433  BR1  0.883424  0.756076  0.883284  0.742373   \n",
       "10931       5438     5440  BR1  0.883017  0.756858  0.871584  0.775407   \n",
       "10932       5434     5438  BR1  0.882900  0.743017  0.883017  0.756858   \n",
       "10933       5975     5434  BR1  0.890426  0.723394  0.882900  0.743017   \n",
       "\n",
       "       n_buses    weight  \n",
       "0            2  0.117647  \n",
       "1            1  0.058824  \n",
       "2            2  0.117647  \n",
       "3            1  0.058824  \n",
       "4            1  0.058824  \n",
       "...        ...       ...  \n",
       "10929        1  0.058824  \n",
       "10930        1  0.058824  \n",
       "10931        1  0.058824  \n",
       "10932        1  0.058824  \n",
       "10933        1  0.058824  \n",
       "\n",
       "[10934 rows x 9 columns]"
      ]
     },
     "execution_count": 1,
     "metadata": {},
     "output_type": "execute_result"
    }
   ],
   "source": [
    "import pandas as pd\n",
    "busstop = pd.read_csv(\"../data/net_busstop.csv\")\n",
    "busstop"
   ]
  },
  {
   "cell_type": "code",
   "execution_count": 10,
   "metadata": {},
   "outputs": [
    {
     "data": {
      "text/plain": [
       "[4498,\n",
       " 2382,\n",
       " 3776,\n",
       " 96,\n",
       " 1265,\n",
       " 1263,\n",
       " 3791,\n",
       " 3876,\n",
       " 776,\n",
       " 577,\n",
       " 790,\n",
       " 3777,\n",
       " 454,\n",
       " 791,\n",
       " 4040,\n",
       " 777,\n",
       " 1651,\n",
       " 2800,\n",
       " 2045,\n",
       " 2302,\n",
       " 4475,\n",
       " 9388,\n",
       " 5974]"
      ]
     },
     "execution_count": 10,
     "metadata": {},
     "output_type": "execute_result"
    }
   ],
   "source": [
    "busstop = pd.read_csv(\"../data/net_busstop.csv\")\n",
    "latlon = pd.read_csv(\"../data/longitude_latitude.csv\")\n",
    "emt_csv = pd.read_csv('../data/emt-data-clean.csv')\n",
    "\n",
    "paradas = list(emt_csv['codigo_parada'].unique())\n",
    "coor_paradas = list(latlon['codigo_parada'].astype(int))\n",
    "paradas_faltan = []\n",
    "\n",
    "for parada in paradas:\n",
    "    if parada not in coor_paradas:\n",
    "        paradas_faltan.append(parada)\n",
    "\n",
    "paradas_faltan"
   ]
  },
  {
   "cell_type": "code",
   "execution_count": 14,
   "metadata": {},
   "outputs": [
    {
     "data": {
      "text/plain": [
       "codigo_estacion      int64\n",
       "codigo_parada        int64\n",
       "nombre_parada       object\n",
       "linea               object\n",
       "direccion_parada    object\n",
       "cp_parada            int64\n",
       "distrito_parada      int64\n",
       "dtype: object"
      ]
     },
     "execution_count": 14,
     "metadata": {},
     "output_type": "execute_result"
    }
   ],
   "source": [
    "emt_csv.dtypes"
   ]
  },
  {
   "cell_type": "code",
   "execution_count": null,
   "metadata": {},
   "outputs": [],
   "source": []
  },
  {
   "cell_type": "code",
   "execution_count": null,
   "metadata": {},
   "outputs": [],
   "source": []
  },
  {
   "cell_type": "code",
   "execution_count": null,
   "metadata": {},
   "outputs": [],
   "source": []
  },
  {
   "cell_type": "code",
   "execution_count": 2,
   "metadata": {},
   "outputs": [],
   "source": [
    "from pandas import concat, DataFrame\n",
    "\n",
    "def generate_graph(dataframe: DataFrame, gtype: str=\"undirect\"):\n",
    "    \"\"\"TBD\"\"\"\n",
    "    nodes_a = dataframe[[\"from_node\", \"from_lat\", \"from_lon\"]]\n",
    "    nodes_b = dataframe.drop(columns=[\"from_node\", \"from_lat\", \"from_lon\"]).rename(columns={\n",
    "        \"to_node\": \"from_node\",\n",
    "        \"to_lat\": \"from_lat\",\n",
    "        \"to_lon\": \"from_lon\"\n",
    "\n",
    "    })[[\"from_node\", \"from_lat\", \"from_lon\"]]\n",
    "    nodes = concat([nodes_a, nodes_b]).drop_duplicates(keep=\"first\")\n",
    "    edges = dataframe[[\"from_node\", \"to_node\", \"weight\"]].drop_duplicates(keep=\"first\")\n",
    "    if gtype == \"undirect\":\n",
    "        graph = nx.Graph()\n",
    "    elif gtype == \"direct\":\n",
    "        graph = nx.DiGraph()\n",
    "\n",
    "    for node in nodes.itertuples():\n",
    "        graph.add_node(node.from_node, pos=(node.from_lat, node.from_lon))\n",
    "    for edge in edges.itertuples():\n",
    "        graph.add_edge(edge.from_node, edge.to_node, weight=edge.weight)\n",
    "    \n",
    "    return graph"
   ]
  },
  {
   "cell_type": "code",
   "execution_count": 3,
   "metadata": {},
   "outputs": [
    {
     "ename": "NameError",
     "evalue": "name 'net_cp' is not defined",
     "output_type": "error",
     "traceback": [
      "\u001b[1;31m---------------------------------------------------------------------------\u001b[0m",
      "\u001b[1;31mNameError\u001b[0m                                 Traceback (most recent call last)",
      "Cell \u001b[1;32mIn[3], line 1\u001b[0m\n\u001b[1;32m----> 1\u001b[0m net_cp \u001b[38;5;241m=\u001b[39m generate_graph(dataframe\u001b[38;5;241m=\u001b[39m\u001b[43mnet_cp\u001b[49m)\n",
      "\u001b[1;31mNameError\u001b[0m: name 'net_cp' is not defined"
     ]
    }
   ],
   "source": [
    "net_cp = generate_graph(dataframe=net_cp)"
   ]
  },
  {
   "cell_type": "code",
   "execution_count": null,
   "metadata": {},
   "outputs": [
    {
     "data": {
      "text/plain": [
       "True"
      ]
     },
     "execution_count": 16,
     "metadata": {},
     "output_type": "execute_result"
    }
   ],
   "source": [
    "nx.is_connected(net_cp)"
   ]
  },
  {
   "cell_type": "code",
   "execution_count": null,
   "metadata": {},
   "outputs": [
    {
     "data": {
      "image/png": "[encoded data removed]",
      "text/plain": [
       "<Figure size 640x480 with 1 Axes>"
      ]
     },
     "metadata": {},
     "output_type": "display_data"
    }
   ],
   "source": [
    "pos = nx.get_node_attributes(net_cp, \"pos\")\n",
    "ww = [net_cp[u][v][\"weight\"] * 2 for u,v in net_cp.edges()]\n",
    "\n",
    "nx.draw(\n",
    "    net_cp, pos, width=ww, \n",
    "    with_labels=False, node_color=\"#2c7abf\", font_size=8, \n",
    "    node_size=1, edge_color=\"#686c6f\", font_color=\"#fff\", \n",
    "    font_weight=\"bold\"\n",
    "    )\n",
    "plt.show()"
   ]
  },
  {
   "cell_type": "code",
   "execution_count": null,
   "metadata": {},
   "outputs": [],
   "source": [
    "busstop_graph2 = get_k_connected_components(busstop_graph, k=100)\n",
    "H = busstop_graph.subgraph(busstop_graph2[0])"
   ]
  },
  {
   "cell_type": "code",
   "execution_count": null,
   "metadata": {},
   "outputs": [
    {
     "data": {
      "text/plain": [
       "2"
      ]
     },
     "execution_count": 44,
     "metadata": {},
     "output_type": "execute_result"
    }
   ],
   "source": [
    "len(busstop_graph2)"
   ]
  },
  {
   "cell_type": "code",
   "execution_count": null,
   "metadata": {},
   "outputs": [],
   "source": [
    "distrito_statistics = get_basic_statistics(H)"
   ]
  },
  {
   "cell_type": "code",
   "execution_count": null,
   "metadata": {},
   "outputs": [],
   "source": []
  }
 ],
 "metadata": {
  "kernelspec": {
   "display_name": ".venv",
   "language": "python",
   "name": "python3"
  },
  "language_info": {
   "codemirror_mode": {
    "name": "ipython",
    "version": 3
   },
   "file_extension": ".py",
   "mimetype": "text/x-python",
   "name": "python",
   "nbconvert_exporter": "python",
   "pygments_lexer": "ipython3",
   "version": "3.9.13"
  }
 },
 "nbformat": 4,
 "nbformat_minor": 2
}
